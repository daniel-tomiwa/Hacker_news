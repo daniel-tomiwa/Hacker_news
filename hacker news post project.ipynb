{
 "cells": [
  {
   "cell_type": "markdown",
   "metadata": {},
   "source": [
    "## Hacker news project"
   ]
  },
  {
   "cell_type": "markdown",
   "metadata": {},
   "source": [
    "In this project, a data set that contains user posts (hacker news) and the reviews on those posts will be analysed to gain insight into what type of posts get the highest reviews and the time range within which there are more reviews than ever. "
   ]
  },
  {
   "cell_type": "code",
   "execution_count": 2,
   "metadata": {},
   "outputs": [
    {
     "name": "stdout",
     "output_type": "stream",
     "text": [
      "[['id', 'title', 'url', 'num_points', 'num_comments', 'author', 'created_at'], ['12224879', 'Interactive Dynamic Video', 'http://www.interactivedynamicvideo.com/', '386', '52', 'ne0phyte', '8/4/2016 11:52'], ['10975351', 'How to Use Open Source and Shut the Fuck Up at the Same Time', 'http://hueniverse.com/2016/01/26/how-to-use-open-source-and-shut-the-fuck-up-at-the-same-time/', '39', '10', 'josep2', '1/26/2016 19:30'], ['11964716', \"Florida DJs May Face Felony for April Fools' Water Joke\", 'http://www.thewire.com/entertainment/2013/04/florida-djs-april-fools-water-joke/63798/', '2', '1', 'vezycash', '6/23/2016 22:20'], ['11919867', 'Technology ventures: From Idea to Enterprise', 'https://www.amazon.com/Technology-Ventures-Enterprise-Thomas-Byers/dp/0073523429', '3', '1', 'hswarna', '6/17/2016 0:01']]\n"
     ]
    }
   ],
   "source": [
    "#parse in the hacker news file\n",
    "from csv import reader\n",
    "opened_file = open('hacker_news.csv')\n",
    "read_file = reader(opened_file)\n",
    "hn = list(read_file)\n",
    "\n",
    "#display the first five rows \n",
    "print(hn[:5])"
   ]
  },
  {
   "cell_type": "code",
   "execution_count": 3,
   "metadata": {},
   "outputs": [
    {
     "name": "stdout",
     "output_type": "stream",
     "text": [
      "['id', 'title', 'url', 'num_points', 'num_comments', 'author', 'created_at']\n",
      "[0, 1, 2, 3, 4, 5, 6]\n",
      "\n",
      "\n",
      "\n",
      "\n",
      "\n",
      "\n",
      "[['12224879', 'Interactive Dynamic Video', 'http://www.interactivedynamicvideo.com/', '386', '52', 'ne0phyte', '8/4/2016 11:52'], ['10975351', 'How to Use Open Source and Shut the Fuck Up at the Same Time', 'http://hueniverse.com/2016/01/26/how-to-use-open-source-and-shut-the-fuck-up-at-the-same-time/', '39', '10', 'josep2', '1/26/2016 19:30'], ['11964716', \"Florida DJs May Face Felony for April Fools' Water Joke\", 'http://www.thewire.com/entertainment/2013/04/florida-djs-april-fools-water-joke/63798/', '2', '1', 'vezycash', '6/23/2016 22:20'], ['11919867', 'Technology ventures: From Idea to Enterprise', 'https://www.amazon.com/Technology-Ventures-Enterprise-Thomas-Byers/dp/0073523429', '3', '1', 'hswarna', '6/17/2016 0:01'], ['10301696', 'Note by Note: The Making of Steinway L1037 (2007)', 'http://www.nytimes.com/2007/11/07/movies/07stein.html?_r=0', '8', '2', 'walterbell', '9/30/2015 4:12']]\n"
     ]
    }
   ],
   "source": [
    "#Extract the header row into a variable\n",
    "headers = hn[0]\n",
    "hn = hn[1:]\n",
    "print(headers)\n",
    "print([0,1,2,3,4,5,6])\n",
    "\n",
    "print('\\n')\n",
    "print('\\n')\n",
    "print('\\n')\n",
    "\n",
    "print(hn[:5])"
   ]
  },
  {
   "cell_type": "markdown",
   "metadata": {},
   "source": [
    "Since we are only interested in the posts that have titles starting with **Ask HN** or **Show HN** we are going to ectract such posts into separate lists"
   ]
  },
  {
   "cell_type": "code",
   "execution_count": 4,
   "metadata": {},
   "outputs": [
    {
     "name": "stdout",
     "output_type": "stream",
     "text": [
      "1744\n",
      "1162\n",
      "17194\n"
     ]
    }
   ],
   "source": [
    "ask_posts = []\n",
    "show_posts = []\n",
    "other_posts = []\n",
    "for row in hn:\n",
    "    title = row[1]\n",
    "    \n",
    "    if title.lower().startswith('ask hn'):\n",
    "        ask_posts.append(row)\n",
    "    elif title.lower().startswith('show hn'):\n",
    "        show_posts.append(row)\n",
    "    else:\n",
    "        other_posts.append(row)\n",
    "        \n",
    "        \n",
    "print(len(ask_posts))\n",
    "print(len(show_posts))\n",
    "print(len(other_posts))\n",
    "\n",
    "num_askpost = len(ask_posts)\n",
    "num_showpost = len(show_posts)\n",
    "num_otherpost = len(other_posts)\n"
   ]
  },
  {
   "cell_type": "markdown",
   "metadata": {},
   "source": [
    "Now that we have separated the posts based on the titles, we can check for which on epof them gets the average highest comments."
   ]
  },
  {
   "cell_type": "code",
   "execution_count": 5,
   "metadata": {},
   "outputs": [
    {
     "name": "stdout",
     "output_type": "stream",
     "text": [
      "14.038417431192661\n"
     ]
    }
   ],
   "source": [
    "total_ask_comments = 0\n",
    "for row in ask_posts:\n",
    "    num_comments = int(row[4])\n",
    "    total_ask_comments += num_comments\n",
    "    \n",
    "avg_ask_comments = total_ask_comments / num_askpost\n",
    "print(avg_ask_comments)"
   ]
  },
  {
   "cell_type": "code",
   "execution_count": 6,
   "metadata": {},
   "outputs": [
    {
     "name": "stdout",
     "output_type": "stream",
     "text": [
      "10.31669535283993\n"
     ]
    }
   ],
   "source": [
    "total_show_comments = 0\n",
    "for row in show_posts:\n",
    "    num_comments = int(row[4])\n",
    "    total_show_comments += num_comments\n",
    "    \n",
    "avg_show_comments = total_show_comments / num_showpost\n",
    "print(avg_show_comments)"
   ]
  },
  {
   "cell_type": "markdown",
   "metadata": {},
   "source": [
    "When we computed the average for the ask posts and the show posts, it was observed that the ask posts has a greater average number of comments when compared to the show post.\n",
    "\n",
    "We can then use this to infer that ask post would generally have more comments that show post at a given point in time in our analysis\n",
    "\n",
    "Making use of the ask post collection we are going to analyse the average number of comments received by the hour created and the average number of askpost created by the hour"
   ]
  },
  {
   "cell_type": "code",
   "execution_count": 9,
   "metadata": {},
   "outputs": [
    {
     "name": "stdout",
     "output_type": "stream",
     "text": [
      "6\n",
      "{'09': 6}\n",
      "29\n",
      "{'09': 6, '13': 29}\n",
      "1\n",
      "{'09': 6, '13': 29, '10': 1}\n",
      "3\n",
      "{'09': 6, '13': 29, '10': 1, '14': 3}\n",
      "17\n",
      "{'09': 6, '13': 29, '10': 1, '14': 3, '16': 17}\n",
      "1\n",
      "{'09': 6, '13': 29, '10': 1, '14': 3, '16': 17, '23': 1}\n",
      "4\n",
      "{'09': 6, '13': 29, '10': 1, '14': 3, '16': 17, '23': 1, '12': 4}\n",
      "1\n",
      "{'09': 7, '13': 29, '10': 1, '14': 3, '16': 17, '23': 1, '12': 4, '17': 1}\n",
      "1\n",
      "{'09': 7, '13': 30, '10': 1, '14': 3, '16': 17, '23': 1, '12': 4, '17': 10, '15': 1}\n",
      "4\n",
      "{'09': 7, '13': 30, '10': 1, '14': 3, '16': 17, '23': 1, '12': 4, '17': 10, '15': 1, '21': 4}\n",
      "2\n",
      "{'09': 7, '13': 30, '10': 1, '14': 3, '16': 17, '23': 1, '12': 4, '17': 10, '15': 1, '21': 8, '20': 2}\n",
      "3\n",
      "{'09': 7, '13': 30, '10': 1, '14': 3, '16': 17, '23': 1, '12': 4, '17': 10, '15': 1, '21': 8, '20': 2, '02': 3}\n",
      "2\n",
      "{'09': 7, '13': 30, '10': 1, '14': 5, '16': 17, '23': 1, '12': 5, '17': 10, '15': 1, '21': 8, '20': 2, '02': 25, '18': 2}\n",
      "1\n",
      "{'09': 7, '13': 37, '10': 1, '14': 7, '16': 24, '23': 1, '12': 5, '17': 13, '15': 7, '21': 8, '20': 2, '02': 25, '18': 2, '03': 1}\n",
      "29\n",
      "{'09': 7, '13': 37, '10': 1, '14': 7, '16': 24, '23': 1, '12': 5, '17': 13, '15': 7, '21': 11, '20': 2, '02': 25, '18': 2, '03': 1, '05': 29}\n",
      "3\n",
      "{'09': 7, '13': 37, '10': 1, '14': 7, '16': 24, '23': 1, '12': 5, '17': 13, '15': 7, '21': 31, '20': 2, '02': 25, '18': 2, '03': 3, '05': 29, '19': 3}\n",
      "33\n",
      "{'09': 7, '13': 37, '10': 1, '14': 7, '16': 24, '23': 1, '12': 5, '17': 13, '15': 7, '21': 31, '20': 2, '02': 25, '18': 5, '03': 3, '05': 29, '19': 3, '01': 33}\n",
      "2\n",
      "{'09': 12, '13': 44, '10': 1, '14': 9, '16': 25, '23': 1, '12': 5, '17': 24, '15': 16, '21': 31, '20': 39, '02': 25, '18': 5, '03': 3, '05': 29, '19': 4, '01': 37, '22': 2}\n",
      "5\n",
      "{'09': 12, '13': 44, '10': 1, '14': 9, '16': 34, '23': 5, '12': 5, '17': 206, '15': 16, '21': 31, '20': 39, '02': 25, '18': 5, '03': 3, '05': 29, '19': 10, '01': 62, '22': 10, '08': 5}\n",
      "3\n",
      "{'09': 12, '13': 44, '10': 1, '14': 9, '16': 34, '23': 5, '12': 5, '17': 206, '15': 16, '21': 31, '20': 39, '02': 25, '18': 5, '03': 3, '05': 29, '19': 10, '01': 62, '22': 10, '08': 5, '04': 3}\n",
      "10\n",
      "{'09': 12, '13': 44, '10': 1, '14': 9, '16': 34, '23': 5, '12': 12, '17': 206, '15': 16, '21': 31, '20': 43, '02': 25, '18': 5, '03': 3, '05': 29, '19': 10, '01': 62, '22': 10, '08': 5, '04': 3, '00': 10}\n",
      "1\n",
      "{'09': 12, '13': 52, '10': 5, '14': 35, '16': 180, '23': 5, '12': 12, '17': 226, '15': 16, '21': 34, '20': 43, '02': 55, '18': 5, '03': 3, '05': 29, '19': 12, '01': 62, '22': 10, '08': 5, '04': 3, '00': 10, '06': 1}\n",
      "2\n",
      "{'09': 12, '13': 52, '10': 5, '14': 57, '16': 183, '23': 12, '12': 12, '17': 237, '15': 88, '21': 34, '20': 57, '02': 62, '18': 31, '03': 5, '05': 31, '19': 19, '01': 62, '22': 10, '08': 135, '04': 3, '00': 11, '06': 1, '07': 2}\n",
      "2\n",
      "{'09': 12, '13': 52, '10': 95, '14': 66, '16': 219, '23': 13, '12': 13, '17': 243, '15': 96, '21': 69, '20': 57, '02': 77, '18': 51, '03': 5, '05': 31, '19': 262, '01': 105, '22': 29, '08': 143, '04': 3, '00': 11, '06': 2, '07': 5, '11': 2}\n"
     ]
    }
   ],
   "source": [
    "import datetime as dt\n",
    "result_list = []\n",
    "for row in ask_posts:\n",
    "    info = row[6], row[4]\n",
    "    info_list = list(info)\n",
    "    result_list.append(info_list)\n",
    "    \n",
    "counts_by_hour = {}\n",
    "comments_by_hour = {}\n",
    "for row in result_list:\n",
    "    period = dt.datetime.strptime(row[0], \"%m/%d/%Y %H:%M\")\n",
    "    hour = period.strftime('%H')\n",
    "    if hour not in counts_by_hour:\n",
    "        counts_by_hour[hour] = 1\n",
    "        comments_by_hour[hour] = int(row[1])\n",
    "        print(row[1])\n",
    "        print(comments_by_hour)\n",
    "    else:\n",
    "        counts_by_hour[hour] += 1\n",
    "        comments_by_hour[hour] += int(row[1])\n"
   ]
  },
  {
   "cell_type": "code",
   "execution_count": 10,
   "metadata": {},
   "outputs": [
    {
     "name": "stdout",
     "output_type": "stream",
     "text": [
      "[['09', 5.5777777777777775], ['13', 14.741176470588234], ['10', 13.440677966101696], ['14', 13.233644859813085], ['16', 16.796296296296298], ['23', 7.985294117647059], ['12', 9.41095890410959], ['17', 11.46], ['15', 38.5948275862069], ['21', 16.009174311926607], ['20', 21.525], ['02', 23.810344827586206], ['18', 13.20183486238532], ['03', 7.796296296296297], ['05', 10.08695652173913], ['19', 10.8], ['01', 11.383333333333333], ['22', 6.746478873239437], ['08', 10.25], ['04', 7.170212765957447], ['00', 8.127272727272727], ['06', 9.022727272727273], ['07', 7.852941176470588], ['11', 11.051724137931034]]\n"
     ]
    }
   ],
   "source": [
    "avg_by_hour = []\n",
    "for hour in comments_by_hour:\n",
    "    avg_commment = int(comments_by_hour[hour]) / int(counts_by_hour[hour])\n",
    "    avg_by_hour.append([hour, avg_commment])\n",
    "    \n",
    "print(avg_by_hour)"
   ]
  },
  {
   "cell_type": "markdown",
   "metadata": {},
   "source": [
    "In other to be able to sort it, we are going to swap the columns of the avg_by_hour list of lists"
   ]
  },
  {
   "cell_type": "code",
   "execution_count": 11,
   "metadata": {
    "scrolled": true
   },
   "outputs": [
    {
     "name": "stdout",
     "output_type": "stream",
     "text": [
      "[[5.5777777777777775, '09'], [14.741176470588234, '13'], [13.440677966101696, '10'], [13.233644859813085, '14'], [16.796296296296298, '16'], [7.985294117647059, '23'], [9.41095890410959, '12'], [11.46, '17'], [38.5948275862069, '15'], [16.009174311926607, '21'], [21.525, '20'], [23.810344827586206, '02'], [13.20183486238532, '18'], [7.796296296296297, '03'], [10.08695652173913, '05'], [10.8, '19'], [11.383333333333333, '01'], [6.746478873239437, '22'], [10.25, '08'], [7.170212765957447, '04'], [8.127272727272727, '00'], [9.022727272727273, '06'], [7.852941176470588, '07'], [11.051724137931034, '11']]\n"
     ]
    }
   ],
   "source": [
    "swap_avg_by_hour = []\n",
    "for row in avg_by_hour:\n",
    "    swap_avg_by_hour.append([row[1], row[0]])\n",
    "    \n",
    "print(swap_avg_by_hour)"
   ]
  },
  {
   "cell_type": "code",
   "execution_count": 12,
   "metadata": {},
   "outputs": [],
   "source": [
    "sorted_swap = sorted(swap_avg_by_hour, reverse=True)"
   ]
  },
  {
   "cell_type": "code",
   "execution_count": 13,
   "metadata": {},
   "outputs": [
    {
     "name": "stdout",
     "output_type": "stream",
     "text": [
      "Top 5 hours for ask Ask Posts Comments\n"
     ]
    }
   ],
   "source": [
    "print(\"Top 5 hours for ask Ask Posts Comments\")"
   ]
  },
  {
   "cell_type": "code",
   "execution_count": 22,
   "metadata": {},
   "outputs": [
    {
     "name": "stdout",
     "output_type": "stream",
     "text": [
      "15:00: 38.59 average comments per post\n",
      "02:00: 23.81 average comments per post\n",
      "20:00: 21.52 average comments per post\n",
      "16:00: 16.80 average comments per post\n",
      "21:00: 16.01 average comments per post\n"
     ]
    }
   ],
   "source": [
    "for row in sorted_swap[:5]:\n",
    "    template = \"{time_}: {average:.2f} average comments per post\"\n",
    "    time = dt.datetime.strptime(row[1], \"%H\")\n",
    "    print(template.format(time_ = time.strftime(\"%H:00\"), average = row[0]))"
   ]
  },
  {
   "cell_type": "markdown",
   "metadata": {},
   "source": [
    "## To be continued..."
   ]
  }
 ],
 "metadata": {
  "kernelspec": {
   "display_name": "Python [conda env:py3.0-TF2.0] *",
   "language": "python",
   "name": "conda-env-py3.0-TF2.0-py"
  },
  "language_info": {
   "codemirror_mode": {
    "name": "ipython",
    "version": 3
   },
   "file_extension": ".py",
   "mimetype": "text/x-python",
   "name": "python",
   "nbconvert_exporter": "python",
   "pygments_lexer": "ipython3",
   "version": "3.7.7"
  }
 },
 "nbformat": 4,
 "nbformat_minor": 4
}
